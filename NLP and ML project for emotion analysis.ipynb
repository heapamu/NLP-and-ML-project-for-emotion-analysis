{
 "cells": [
  {
   "cell_type": "markdown",
   "metadata": {},
   "source": [
    "# _Héctor J. Aparicio Muñoz_"
   ]
  },
  {
   "cell_type": "markdown",
   "metadata": {},
   "source": [
    "# Caso de estudio: ML con PLN para Análisis de Sentimientos de opiniones\n",
    "\n",
    "Usaremos la librería **_scikit learn_** con el fin de crear y evaluar varios clasificadores que nos permitan determinar el sentimiento del texto: positivo o negativo.\n",
    "\n",
    "El dataset con el que vamos a trabajar se puede descargar desde la siguiente URL: \n",
    "https://www.kaggle.com/nehasontakke/amazon-unlocked-mobilecsv"
   ]
  },
  {
   "cell_type": "markdown",
   "metadata": {},
   "source": [
    "## --> Carga del conjunto de datos\n",
    "Vamos a trabajar con el dataset *Amazon_Unlocked_Mobile.csv*, liberado por [PromptCloud](https://www.promptcloud.com/) y  que contiene información sobre opiniones, calificaciones y precios de cerca de 400.000 teléfonos móviles libres vendidos en Amazon.com\n",
    "\n",
    "NOTA: Para agilizar los cálculos vamos a seleccionar una muestra de los datos."
   ]
  },
  {
   "cell_type": "code",
   "execution_count": 1,
   "metadata": {},
   "outputs": [],
   "source": [
    "import pandas as pd\n",
    "import numpy as np\n",
    "\n",
    "# Lectura de datos:\n",
    "file_path = './Amazon_Unlocked_Mobile.csv'\n",
    "\n",
    "df = pd.read_csv(file_path) \n",
    "\n",
    "# Selección de la muestra:\n",
    "df = df.sample(frac=0.1, random_state=10)\n",
    "df.dropna(inplace=True)  # Eliminamos filas con elementos nulos."
   ]
  },
  {
   "cell_type": "code",
   "execution_count": 2,
   "metadata": {},
   "outputs": [
    {
     "data": {
      "text/html": [
       "<div>\n",
       "<style scoped>\n",
       "    .dataframe tbody tr th:only-of-type {\n",
       "        vertical-align: middle;\n",
       "    }\n",
       "\n",
       "    .dataframe tbody tr th {\n",
       "        vertical-align: top;\n",
       "    }\n",
       "\n",
       "    .dataframe thead th {\n",
       "        text-align: right;\n",
       "    }\n",
       "</style>\n",
       "<table border=\"1\" class=\"dataframe\">\n",
       "  <thead>\n",
       "    <tr style=\"text-align: right;\">\n",
       "      <th></th>\n",
       "      <th>Product Name</th>\n",
       "      <th>Brand Name</th>\n",
       "      <th>Price</th>\n",
       "      <th>Rating</th>\n",
       "      <th>Reviews</th>\n",
       "      <th>Review Votes</th>\n",
       "    </tr>\n",
       "  </thead>\n",
       "  <tbody>\n",
       "    <tr>\n",
       "      <th>34377</th>\n",
       "      <td>Apple iPhone 5c 8GB (Pink) - Verizon Wireless</td>\n",
       "      <td>Apple</td>\n",
       "      <td>194.99</td>\n",
       "      <td>1</td>\n",
       "      <td>The phone needed a SIM card, would have been n...</td>\n",
       "      <td>1.0</td>\n",
       "    </tr>\n",
       "    <tr>\n",
       "      <th>248521</th>\n",
       "      <td>Motorola Droid RAZR MAXX XT912 M Verizon Smart...</td>\n",
       "      <td>Motorola</td>\n",
       "      <td>174.99</td>\n",
       "      <td>5</td>\n",
       "      <td>I was 3 months away from my upgrade and my Str...</td>\n",
       "      <td>3.0</td>\n",
       "    </tr>\n",
       "    <tr>\n",
       "      <th>167661</th>\n",
       "      <td>CNPGD [U.S. Office Extended Warranty] Smartwat...</td>\n",
       "      <td>CNPGD</td>\n",
       "      <td>49.99</td>\n",
       "      <td>1</td>\n",
       "      <td>an experience i want to forget</td>\n",
       "      <td>0.0</td>\n",
       "    </tr>\n",
       "    <tr>\n",
       "      <th>73287</th>\n",
       "      <td>Apple iPhone 7 Unlocked Phone 256 GB - US Vers...</td>\n",
       "      <td>Apple</td>\n",
       "      <td>922.00</td>\n",
       "      <td>5</td>\n",
       "      <td>GREAT PHONE WORK ACCORDING MY EXPECTATIONS.</td>\n",
       "      <td>1.0</td>\n",
       "    </tr>\n",
       "    <tr>\n",
       "      <th>277158</th>\n",
       "      <td>Nokia N8 Unlocked GSM Touch Screen Phone Featu...</td>\n",
       "      <td>Nokia</td>\n",
       "      <td>95.00</td>\n",
       "      <td>5</td>\n",
       "      <td>I fell in love with this phone because it did ...</td>\n",
       "      <td>0.0</td>\n",
       "    </tr>\n",
       "    <tr>\n",
       "      <th>...</th>\n",
       "      <td>...</td>\n",
       "      <td>...</td>\n",
       "      <td>...</td>\n",
       "      <td>...</td>\n",
       "      <td>...</td>\n",
       "      <td>...</td>\n",
       "    </tr>\n",
       "    <tr>\n",
       "      <th>30001</th>\n",
       "      <td>Apple iPhone 5c 32GB (Blue) - AT&amp;T</td>\n",
       "      <td>Apple</td>\n",
       "      <td>274.95</td>\n",
       "      <td>5</td>\n",
       "      <td>What an upgrade compared to the iPhone 4. Goin...</td>\n",
       "      <td>7.0</td>\n",
       "    </tr>\n",
       "    <tr>\n",
       "      <th>313198</th>\n",
       "      <td>Samsung Galaxy Grand Prime DUOS G531H/DS - Gra...</td>\n",
       "      <td>Samsung</td>\n",
       "      <td>179.99</td>\n",
       "      <td>4</td>\n",
       "      <td>I liked it at first but is starting to lag alr...</td>\n",
       "      <td>0.0</td>\n",
       "    </tr>\n",
       "    <tr>\n",
       "      <th>138219</th>\n",
       "      <td>BLU Studio 5.0 C HD Unlocked Cellphone, White</td>\n",
       "      <td>BLU</td>\n",
       "      <td>2000.00</td>\n",
       "      <td>4</td>\n",
       "      <td>very nice</td>\n",
       "      <td>0.0</td>\n",
       "    </tr>\n",
       "    <tr>\n",
       "      <th>66571</th>\n",
       "      <td>Apple iPhone 6s 64 GB International Warranty U...</td>\n",
       "      <td>Apple</td>\n",
       "      <td>689.95</td>\n",
       "      <td>1</td>\n",
       "      <td>It is not a new one. The tagboard on the box w...</td>\n",
       "      <td>0.0</td>\n",
       "    </tr>\n",
       "    <tr>\n",
       "      <th>109303</th>\n",
       "      <td>BLU Dash J Unlocked Phone - Retail Packaging -...</td>\n",
       "      <td>BLU</td>\n",
       "      <td>39.99</td>\n",
       "      <td>1</td>\n",
       "      <td>This phone was truly a terrible purchase!! It ...</td>\n",
       "      <td>1.0</td>\n",
       "    </tr>\n",
       "  </tbody>\n",
       "</table>\n",
       "<p>33408 rows × 6 columns</p>\n",
       "</div>"
      ],
      "text/plain": [
       "                                             Product Name Brand Name    Price  \\\n",
       "34377       Apple iPhone 5c 8GB (Pink) - Verizon Wireless      Apple   194.99   \n",
       "248521  Motorola Droid RAZR MAXX XT912 M Verizon Smart...   Motorola   174.99   \n",
       "167661  CNPGD [U.S. Office Extended Warranty] Smartwat...      CNPGD    49.99   \n",
       "73287   Apple iPhone 7 Unlocked Phone 256 GB - US Vers...      Apple   922.00   \n",
       "277158  Nokia N8 Unlocked GSM Touch Screen Phone Featu...      Nokia    95.00   \n",
       "...                                                   ...        ...      ...   \n",
       "30001                  Apple iPhone 5c 32GB (Blue) - AT&T      Apple   274.95   \n",
       "313198  Samsung Galaxy Grand Prime DUOS G531H/DS - Gra...    Samsung   179.99   \n",
       "138219      BLU Studio 5.0 C HD Unlocked Cellphone, White        BLU  2000.00   \n",
       "66571   Apple iPhone 6s 64 GB International Warranty U...      Apple   689.95   \n",
       "109303  BLU Dash J Unlocked Phone - Retail Packaging -...        BLU    39.99   \n",
       "\n",
       "        Rating                                            Reviews  \\\n",
       "34377        1  The phone needed a SIM card, would have been n...   \n",
       "248521       5  I was 3 months away from my upgrade and my Str...   \n",
       "167661       1                     an experience i want to forget   \n",
       "73287        5        GREAT PHONE WORK ACCORDING MY EXPECTATIONS.   \n",
       "277158       5  I fell in love with this phone because it did ...   \n",
       "...        ...                                                ...   \n",
       "30001        5  What an upgrade compared to the iPhone 4. Goin...   \n",
       "313198       4  I liked it at first but is starting to lag alr...   \n",
       "138219       4                                          very nice   \n",
       "66571        1  It is not a new one. The tagboard on the box w...   \n",
       "109303       1  This phone was truly a terrible purchase!! It ...   \n",
       "\n",
       "        Review Votes  \n",
       "34377            1.0  \n",
       "248521           3.0  \n",
       "167661           0.0  \n",
       "73287            1.0  \n",
       "277158           0.0  \n",
       "...              ...  \n",
       "30001            7.0  \n",
       "313198           0.0  \n",
       "138219           0.0  \n",
       "66571            0.0  \n",
       "109303           1.0  \n",
       "\n",
       "[33408 rows x 6 columns]"
      ]
     },
     "execution_count": 2,
     "metadata": {},
     "output_type": "execute_result"
    }
   ],
   "source": [
    "# Veamos la muestra con la que nos hemos quedado del dataser anterior:\n",
    "df"
   ]
  },
  {
   "cell_type": "markdown",
   "metadata": {},
   "source": [
    "## --> Etiquetamos el dataset\n",
    "\n",
    "Vamos a crear la variable Sentimiento. Para ello, eliminamos los registros de sentimiento neutral que se corresponden a los registros de Rating = 3. Después, consideraremos sentimiento positivo (sentiment = 1) a los registros con rating > 3. El resto de registros tendrán un sentimiento negativo (sentiment = 0)."
   ]
  },
  {
   "cell_type": "code",
   "execution_count": 3,
   "metadata": {},
   "outputs": [
    {
     "data": {
      "text/plain": [
       "(33408, 6)"
      ]
     },
     "execution_count": 3,
     "metadata": {},
     "output_type": "execute_result"
    }
   ],
   "source": [
    "# Veamos primeramente las dimensiones iniciales de la muestra del dataset con la que vamos a trabajar:\n",
    "df.shape"
   ]
  },
  {
   "cell_type": "code",
   "execution_count": 4,
   "metadata": {},
   "outputs": [],
   "source": [
    "# Vamos a crear la variable \"Sentiment\" en nuestro dataset:"
   ]
  },
  {
   "cell_type": "code",
   "execution_count": 5,
   "metadata": {
    "scrolled": false
   },
   "outputs": [],
   "source": [
    "# Comenzamos creando una nueva columna, de momento vacía:\n",
    "df = df.reindex(columns=list(df.columns) + ['Sentiment'])"
   ]
  },
  {
   "cell_type": "code",
   "execution_count": 6,
   "metadata": {},
   "outputs": [],
   "source": [
    "# Eliminamos los registros con sentimiento neutral (Rating = 3):\n",
    "df = df[df['Rating'] != 3]"
   ]
  },
  {
   "cell_type": "code",
   "execution_count": 7,
   "metadata": {},
   "outputs": [],
   "source": [
    "# Vamos a asignarle los valores adecuados a la nueva variable:\n",
    "for i in range(len(df)):\n",
    "    if df.iloc[i, df.columns.get_loc('Rating')] > 3:\n",
    "        df.iloc[i, df.columns.get_loc('Sentiment')] = 1\n",
    "    else:\n",
    "        df.iloc[i, df.columns.get_loc('Sentiment')] = 0"
   ]
  },
  {
   "cell_type": "code",
   "execution_count": 8,
   "metadata": {},
   "outputs": [
    {
     "data": {
      "text/html": [
       "<div>\n",
       "<style scoped>\n",
       "    .dataframe tbody tr th:only-of-type {\n",
       "        vertical-align: middle;\n",
       "    }\n",
       "\n",
       "    .dataframe tbody tr th {\n",
       "        vertical-align: top;\n",
       "    }\n",
       "\n",
       "    .dataframe thead th {\n",
       "        text-align: right;\n",
       "    }\n",
       "</style>\n",
       "<table border=\"1\" class=\"dataframe\">\n",
       "  <thead>\n",
       "    <tr style=\"text-align: right;\">\n",
       "      <th></th>\n",
       "      <th>Product Name</th>\n",
       "      <th>Brand Name</th>\n",
       "      <th>Price</th>\n",
       "      <th>Rating</th>\n",
       "      <th>Reviews</th>\n",
       "      <th>Review Votes</th>\n",
       "      <th>Sentiment</th>\n",
       "    </tr>\n",
       "  </thead>\n",
       "  <tbody>\n",
       "    <tr>\n",
       "      <th>34377</th>\n",
       "      <td>Apple iPhone 5c 8GB (Pink) - Verizon Wireless</td>\n",
       "      <td>Apple</td>\n",
       "      <td>194.99</td>\n",
       "      <td>1</td>\n",
       "      <td>The phone needed a SIM card, would have been n...</td>\n",
       "      <td>1.0</td>\n",
       "      <td>0.0</td>\n",
       "    </tr>\n",
       "    <tr>\n",
       "      <th>248521</th>\n",
       "      <td>Motorola Droid RAZR MAXX XT912 M Verizon Smart...</td>\n",
       "      <td>Motorola</td>\n",
       "      <td>174.99</td>\n",
       "      <td>5</td>\n",
       "      <td>I was 3 months away from my upgrade and my Str...</td>\n",
       "      <td>3.0</td>\n",
       "      <td>1.0</td>\n",
       "    </tr>\n",
       "    <tr>\n",
       "      <th>167661</th>\n",
       "      <td>CNPGD [U.S. Office Extended Warranty] Smartwat...</td>\n",
       "      <td>CNPGD</td>\n",
       "      <td>49.99</td>\n",
       "      <td>1</td>\n",
       "      <td>an experience i want to forget</td>\n",
       "      <td>0.0</td>\n",
       "      <td>0.0</td>\n",
       "    </tr>\n",
       "    <tr>\n",
       "      <th>73287</th>\n",
       "      <td>Apple iPhone 7 Unlocked Phone 256 GB - US Vers...</td>\n",
       "      <td>Apple</td>\n",
       "      <td>922.00</td>\n",
       "      <td>5</td>\n",
       "      <td>GREAT PHONE WORK ACCORDING MY EXPECTATIONS.</td>\n",
       "      <td>1.0</td>\n",
       "      <td>1.0</td>\n",
       "    </tr>\n",
       "    <tr>\n",
       "      <th>277158</th>\n",
       "      <td>Nokia N8 Unlocked GSM Touch Screen Phone Featu...</td>\n",
       "      <td>Nokia</td>\n",
       "      <td>95.00</td>\n",
       "      <td>5</td>\n",
       "      <td>I fell in love with this phone because it did ...</td>\n",
       "      <td>0.0</td>\n",
       "      <td>1.0</td>\n",
       "    </tr>\n",
       "    <tr>\n",
       "      <th>...</th>\n",
       "      <td>...</td>\n",
       "      <td>...</td>\n",
       "      <td>...</td>\n",
       "      <td>...</td>\n",
       "      <td>...</td>\n",
       "      <td>...</td>\n",
       "      <td>...</td>\n",
       "    </tr>\n",
       "    <tr>\n",
       "      <th>30001</th>\n",
       "      <td>Apple iPhone 5c 32GB (Blue) - AT&amp;T</td>\n",
       "      <td>Apple</td>\n",
       "      <td>274.95</td>\n",
       "      <td>5</td>\n",
       "      <td>What an upgrade compared to the iPhone 4. Goin...</td>\n",
       "      <td>7.0</td>\n",
       "      <td>1.0</td>\n",
       "    </tr>\n",
       "    <tr>\n",
       "      <th>313198</th>\n",
       "      <td>Samsung Galaxy Grand Prime DUOS G531H/DS - Gra...</td>\n",
       "      <td>Samsung</td>\n",
       "      <td>179.99</td>\n",
       "      <td>4</td>\n",
       "      <td>I liked it at first but is starting to lag alr...</td>\n",
       "      <td>0.0</td>\n",
       "      <td>1.0</td>\n",
       "    </tr>\n",
       "    <tr>\n",
       "      <th>138219</th>\n",
       "      <td>BLU Studio 5.0 C HD Unlocked Cellphone, White</td>\n",
       "      <td>BLU</td>\n",
       "      <td>2000.00</td>\n",
       "      <td>4</td>\n",
       "      <td>very nice</td>\n",
       "      <td>0.0</td>\n",
       "      <td>1.0</td>\n",
       "    </tr>\n",
       "    <tr>\n",
       "      <th>66571</th>\n",
       "      <td>Apple iPhone 6s 64 GB International Warranty U...</td>\n",
       "      <td>Apple</td>\n",
       "      <td>689.95</td>\n",
       "      <td>1</td>\n",
       "      <td>It is not a new one. The tagboard on the box w...</td>\n",
       "      <td>0.0</td>\n",
       "      <td>0.0</td>\n",
       "    </tr>\n",
       "    <tr>\n",
       "      <th>109303</th>\n",
       "      <td>BLU Dash J Unlocked Phone - Retail Packaging -...</td>\n",
       "      <td>BLU</td>\n",
       "      <td>39.99</td>\n",
       "      <td>1</td>\n",
       "      <td>This phone was truly a terrible purchase!! It ...</td>\n",
       "      <td>1.0</td>\n",
       "      <td>0.0</td>\n",
       "    </tr>\n",
       "  </tbody>\n",
       "</table>\n",
       "<p>30737 rows × 7 columns</p>\n",
       "</div>"
      ],
      "text/plain": [
       "                                             Product Name Brand Name    Price  \\\n",
       "34377       Apple iPhone 5c 8GB (Pink) - Verizon Wireless      Apple   194.99   \n",
       "248521  Motorola Droid RAZR MAXX XT912 M Verizon Smart...   Motorola   174.99   \n",
       "167661  CNPGD [U.S. Office Extended Warranty] Smartwat...      CNPGD    49.99   \n",
       "73287   Apple iPhone 7 Unlocked Phone 256 GB - US Vers...      Apple   922.00   \n",
       "277158  Nokia N8 Unlocked GSM Touch Screen Phone Featu...      Nokia    95.00   \n",
       "...                                                   ...        ...      ...   \n",
       "30001                  Apple iPhone 5c 32GB (Blue) - AT&T      Apple   274.95   \n",
       "313198  Samsung Galaxy Grand Prime DUOS G531H/DS - Gra...    Samsung   179.99   \n",
       "138219      BLU Studio 5.0 C HD Unlocked Cellphone, White        BLU  2000.00   \n",
       "66571   Apple iPhone 6s 64 GB International Warranty U...      Apple   689.95   \n",
       "109303  BLU Dash J Unlocked Phone - Retail Packaging -...        BLU    39.99   \n",
       "\n",
       "        Rating                                            Reviews  \\\n",
       "34377        1  The phone needed a SIM card, would have been n...   \n",
       "248521       5  I was 3 months away from my upgrade and my Str...   \n",
       "167661       1                     an experience i want to forget   \n",
       "73287        5        GREAT PHONE WORK ACCORDING MY EXPECTATIONS.   \n",
       "277158       5  I fell in love with this phone because it did ...   \n",
       "...        ...                                                ...   \n",
       "30001        5  What an upgrade compared to the iPhone 4. Goin...   \n",
       "313198       4  I liked it at first but is starting to lag alr...   \n",
       "138219       4                                          very nice   \n",
       "66571        1  It is not a new one. The tagboard on the box w...   \n",
       "109303       1  This phone was truly a terrible purchase!! It ...   \n",
       "\n",
       "        Review Votes  Sentiment  \n",
       "34377            1.0        0.0  \n",
       "248521           3.0        1.0  \n",
       "167661           0.0        0.0  \n",
       "73287            1.0        1.0  \n",
       "277158           0.0        1.0  \n",
       "...              ...        ...  \n",
       "30001            7.0        1.0  \n",
       "313198           0.0        1.0  \n",
       "138219           0.0        1.0  \n",
       "66571            0.0        0.0  \n",
       "109303           1.0        0.0  \n",
       "\n",
       "[30737 rows x 7 columns]"
      ]
     },
     "execution_count": 8,
     "metadata": {},
     "output_type": "execute_result"
    }
   ],
   "source": [
    "# El dataset queda de la siguiente forma:\n",
    "df"
   ]
  },
  {
   "cell_type": "code",
   "execution_count": 9,
   "metadata": {},
   "outputs": [
    {
     "data": {
      "text/plain": [
       "(30737, 7)"
      ]
     },
     "execution_count": 9,
     "metadata": {},
     "output_type": "execute_result"
    }
   ],
   "source": [
    "# Por lo tanto, después de crear la nueva variable, las dimensiones del dataset son:\n",
    "df.shape"
   ]
  },
  {
   "cell_type": "markdown",
   "metadata": {},
   "source": [
    "## --> Creación de dataset de entrenamiento y test\n",
    "\n",
    "Vamos a separar el dataset en dos partes (entrenamiento y test) con la proporción 70-30."
   ]
  },
  {
   "cell_type": "code",
   "execution_count": 10,
   "metadata": {},
   "outputs": [],
   "source": [
    "# Comenzamos importando la función:\n",
    "from sklearn.model_selection import train_test_split"
   ]
  },
  {
   "cell_type": "code",
   "execution_count": 11,
   "metadata": {},
   "outputs": [],
   "source": [
    "# Vamos a crear dos estructuras de la misma longitud, el bloque de características y la variable objetivo, que \n",
    "# serán las que posteriormente le pasaremos a la función \"train_test_split\":\n",
    "y = df.pop(\"Sentiment\")\n",
    "X = df"
   ]
  },
  {
   "cell_type": "code",
   "execution_count": 12,
   "metadata": {},
   "outputs": [],
   "source": [
    "# Pasamos a la función \"train_test_split\" el bloque de características y la variable objetivo, para que genere \n",
    "# bloques de entrenamiento y test para ambas estructuras, con la proporción 70-30:\n",
    "X_train, X_test, y_train, y_test = train_test_split(X, y, test_size=0.3)"
   ]
  },
  {
   "cell_type": "code",
   "execution_count": 13,
   "metadata": {},
   "outputs": [
    {
     "name": "stdout",
     "output_type": "stream",
     "text": [
      "Dataset de entrenamiento, bloque de características:\n",
      "\t (21515, 6)\n",
      "Dataset de entrenamiento, variable objetivo:\n",
      "\t (21515,)\n",
      "Dataset de test, bloque de características:\n",
      "\t (9222, 6)\n",
      "Dataset de test, variable objetivo:\n",
      "\t (9222,)\n"
     ]
    }
   ],
   "source": [
    "# Las dimensiones de los bloques generados son:\n",
    "print(\"Dataset de entrenamiento, bloque de características:\\n\\t\", X_train.shape)\n",
    "print(\"Dataset de entrenamiento, variable objetivo:\\n\\t\", y_train.shape)\n",
    "\n",
    "print(\"Dataset de test, bloque de características:\\n\\t\", X_test.shape)\n",
    "print(\"Dataset de test, variable objetivo:\\n\\t\", y_test.shape)"
   ]
  },
  {
   "cell_type": "markdown",
   "metadata": {},
   "source": [
    "## --> Entrenamiento del dataset: Preparación de los datos de texto\n",
    "\n",
    "A continuación utilizaremos el método de bolsas de palabras para transformar los documentos en una \"document term matrix\"."
   ]
  },
  {
   "cell_type": "code",
   "execution_count": 14,
   "metadata": {},
   "outputs": [],
   "source": [
    "# A partir de nuestra colección de documentos de texto, que van a ser las \"reviews\" de cada registro del \n",
    "# dataset, vamos a aprender su vocabulario y crear la \"document term matrix\"."
   ]
  },
  {
   "cell_type": "code",
   "execution_count": 15,
   "metadata": {},
   "outputs": [],
   "source": [
    "# Comenzaremos generando el corpus de documentos con el que vamos a trabajar, que ya hemos dicho que son las \n",
    "# \"reviews\" de cada registro del dataset:\n",
    "\n",
    "# Creamos una lista llamada \"corpus_train\" en la que almacenamos como tipo \"strings\" los \"reviews\" de cada \n",
    "# registro del dataset de entrenamiento:\n",
    "corpus_train = []\n",
    "for i in range(len(X_train)):\n",
    "    corpus_train.append(X_train.iloc[i, X_train.columns.get_loc('Reviews')])\n",
    "\n",
    "# Veamos su contenido:\n",
    "#    corpus_train"
   ]
  },
  {
   "cell_type": "code",
   "execution_count": 16,
   "metadata": {},
   "outputs": [],
   "source": [
    "# Vamos a importar la clase:\n",
    "from sklearn.feature_extraction.text import CountVectorizer"
   ]
  },
  {
   "cell_type": "code",
   "execution_count": 17,
   "metadata": {},
   "outputs": [],
   "source": [
    "# Creamos una instancia de la clase anterior:\n",
    "vectorizer = CountVectorizer()\n",
    "\n",
    "# NOTA: Podemos ajustar los parámetros de la entidad CountVectorizer de la manera que nos interese. Por ejemplo, \n",
    "# si quisiéramos una frecuencia mínima de documentos de 5 (ignorar términos que aparecen en menos de 5 \n",
    "# documentos), y extraer unigramas y bigramas, lo especificaríamos al crear la instancia de la clase \n",
    "# \"CountVectorizer\" de la siguiente manera:\n",
    "#    vectorizer_ajustada = CountVectorizer(min_df = 5, ngram_range=(1, 2))"
   ]
  },
  {
   "cell_type": "code",
   "execution_count": 18,
   "metadata": {
    "scrolled": true
   },
   "outputs": [
    {
     "data": {
      "text/plain": [
       "CountVectorizer(analyzer='word', binary=False, decode_error='strict',\n",
       "                dtype=<class 'numpy.int64'>, encoding='utf-8', input='content',\n",
       "                lowercase=True, max_df=1.0, max_features=None, min_df=1,\n",
       "                ngram_range=(1, 1), preprocessor=None, stop_words=None,\n",
       "                strip_accents=None, token_pattern='(?u)\\\\b\\\\w\\\\w+\\\\b',\n",
       "                tokenizer=None, vocabulary=None)"
      ]
     },
     "execution_count": 18,
     "metadata": {},
     "output_type": "execute_result"
    }
   ],
   "source": [
    "# Llamamos a la función \"fit()\" para aprender el vocabulario de las \"Reviews\" del dataset de entrenamiento:\n",
    "vectorizer.fit(corpus_train)\n",
    "\n",
    "# Podemos ver el vocabulario aprendido:\n",
    "#    print(\"Vocabulario: \", vectorizer.vocabulary_)"
   ]
  },
  {
   "cell_type": "code",
   "execution_count": 19,
   "metadata": {},
   "outputs": [],
   "source": [
    "# NOTA: En algunos casos antes de usar la función \"fit()\" para aprender el vocabulario anterior, puede ser \n",
    "# conveniente realizar alguna etapa de preprocesado de los datos para eliminar términos o secuencias de palabras \n",
    "# que carezcan de significado."
   ]
  },
  {
   "cell_type": "code",
   "execution_count": 20,
   "metadata": {},
   "outputs": [],
   "source": [
    "# Llamamos a la función \"transform()\" para codificar cada documento (review) del dataset de entrenamiento como \n",
    "# un vector, y obtener así la matriz dispersa de términos del documento que buscábamos:\n",
    "train_data = vectorizer.transform(corpus_train)"
   ]
  },
  {
   "cell_type": "code",
   "execution_count": 21,
   "metadata": {},
   "outputs": [],
   "source": [
    "# NOTA: Se podrían haber dado los dos pasos anteriores, \"fit()\" y \"transform()\", a la vez mediante:\n",
    "#         train_data = vectorizer.fit_transform(corpus_train)"
   ]
  },
  {
   "cell_type": "code",
   "execution_count": 22,
   "metadata": {},
   "outputs": [],
   "source": [
    "# Vamos a crear también la \"document term matrix\" del dataset de test, para tenerla lista para posteriormente \n",
    "# evaluar los clasificadores que creemos.\n",
    "\n",
    "# Comenzamos creando una lista llamada \"corpus_test\" en la que almacenamos como tipo \"strings\" los \"reviews\" \n",
    "# de cada registro del dataset de test:\n",
    "corpus_test = []\n",
    "for i in range(len(X_test)):\n",
    "    corpus_test.append(X_test.iloc[i, X_test.columns.get_loc('Reviews')])\n",
    "\n",
    "# Llamamos a la función \"transform()\" para codificar cada documento (review) del dataset de test como un vector\n",
    "# a partir del vocabulario aprendido del dataset de entrenamiento, y obtener así la \"document term matrix\" \n",
    "# del dataset de test:\n",
    "test_data = vectorizer.transform(corpus_test)"
   ]
  },
  {
   "cell_type": "markdown",
   "metadata": {},
   "source": [
    "## --> Opción alternativa: Entidad _TfidfVectorizer_\n",
    "\n",
    "Podemos utilizar como alternativa a la entidad *CountVectorizer* la entidad *TfidfVectorizer* (este método resalta las palabras que son más frecuentes en un documento pero no en todos los documentos). \n",
    "\n",
    "Veamos cómo se haría especificando por ejemplo una frecuencia mínima de documentos de 5 y extrayendo también unigramas y bigramas."
   ]
  },
  {
   "cell_type": "code",
   "execution_count": 23,
   "metadata": {},
   "outputs": [],
   "source": [
    "# Tenemos previamente generados los corpus de documentos \"corpus_train\", con el que entrenar la entidad \n",
    "# \"TfidfVectorizer\", y \"corpus_test\", con el que posteriormente evaluaremos el clasificador.\n",
    "\n",
    "# Comenzamos importando la clase:\n",
    "from sklearn.feature_extraction.text import TfidfVectorizer\n",
    "\n",
    "# Creamos una instancia de la clase \"TfidfVectorizer\", especificando una frecuencia mínima de documentos de 5 \n",
    "# (ignorar términos que aparecen en menos de 5 documentos), y extrayendo unigramas y bigramas:\n",
    "vectorizer_tfidf = TfidfVectorizer(min_df = 5, ngram_range=(1, 2))\n",
    "\n",
    "# Llamamos a la función \"fit()\" para aprender el vocabulario de las \"Reviews\" del dataset de entrenamiento, \n",
    "# y a la función \"transform()\" para codificar cada documento (review) del dataset de entrenamiento como \n",
    "# un vector, y obtener así la matriz dispersa de términos del documento:\n",
    "train_data_tfidf = vectorizer_tfidf.fit_transform(corpus_train)\n",
    "\n",
    "# Llamamos a la función \"transform()\" para codificar cada documento (review) del dataset de test como un vector\n",
    "# a partir del vocabulario aprendido del dataset de entrenamiento, y obtener así la \"document term matrix\" \n",
    "# del dataset de test:\n",
    "test_data_tfidf = vectorizer_tfidf.transform(corpus_test)"
   ]
  },
  {
   "cell_type": "markdown",
   "metadata": {},
   "source": [
    "# DESARROLLO DE MODELOS DE PREDICCIÓN DE LA EMOCIÓN\n",
    "\n",
    "Vamos a implementar, entrenar y evaluar tres modelos distintos, para poder compararlos. Serán un modelo Naive Bayes, un modelo de Regresión logística y un modelo de Máquinas de Vectores de Soporte (SVM).\n",
    "\n",
    "NOTA: Lo haremos a partir de la matriz de términos del documento obtenida con la entidad _CountVectorizer_, aunque también podríamos haber decidido hacerlo a partir de la obtenida con la entidad _TfidfVectorizer_.\n",
    "\n",
    "## --> Modelo Naive Bayes\n",
    "\n",
    "Vamos a declarar y entrenar el modelo de Naive Bayes con el conjunto de datos de entrenamiento. Para posteriormente evaluar el clasificador predeciremos las etiquetas para el conjunto de datos test."
   ]
  },
  {
   "cell_type": "code",
   "execution_count": 24,
   "metadata": {},
   "outputs": [
    {
     "name": "stdout",
     "output_type": "stream",
     "text": [
      "Predicción modelo Naive Bayes:\t [1. 0. 1. 1. 0. 1. 0. 1. 0. 1. 1. 1. 1. 0. 0. 1. 1. 1. 1. 1.]\n",
      "Valores reales de las clases:\t [1. 0. 1. 1. 0. 1. 0. 1. 0. 1. 1. 1. 1. 0. 0. 1. 1. 1. 1. 1.]\n"
     ]
    }
   ],
   "source": [
    "# Importamos la clase:\n",
    "from sklearn.naive_bayes import MultinomialNB\n",
    "\n",
    "# Creamos una instancia de la clase anterior:\n",
    "clfrNB = MultinomialNB()\n",
    "\n",
    "# Invocamos al método \"fit()\" con el conjunto de entrenamiento para entrenar al clasificador:\n",
    "clfrNB.fit(train_data, y_train)\n",
    "\n",
    "# Predicción de las etiquetas o variables objetivo de nuestro conjunto de test:\n",
    "predicted_labels_NB = clfrNB.predict(test_data)\n",
    "\n",
    "# Veamos el resultado de los 20 primeros valores de la predicción sobre el conjunto de test, junto con los 20 \n",
    "# primeros valores reales de las clases de dicho conjunto de test:\n",
    "print(\"Predicción modelo Naive Bayes:\\t\", predicted_labels_NB[0:20])\n",
    "print(\"Valores reales de las clases:\\t\", y_test.values[0:20])"
   ]
  },
  {
   "cell_type": "markdown",
   "metadata": {},
   "source": [
    "## --> Modelo Regresión logística\n",
    "\n",
    "Vamos a declarar y entrenar el modelo de Regresicón logística con el conjunto de datos de entrenamiento. Para posteriormente evaluar el clasificador predeciremos las etiquetas para el conjunto de datos de test."
   ]
  },
  {
   "cell_type": "code",
   "execution_count": 25,
   "metadata": {},
   "outputs": [
    {
     "name": "stdout",
     "output_type": "stream",
     "text": [
      "Predicción modelo Reg.log.:\t [1. 1. 1. 1. 0. 1. 0. 1. 0. 1. 1. 1. 1. 0. 0. 1. 1. 1. 1. 1.]\n",
      "Valores reales de las clases:\t [1. 0. 1. 1. 0. 1. 0. 1. 0. 1. 1. 1. 1. 0. 0. 1. 1. 1. 1. 1.]\n"
     ]
    }
   ],
   "source": [
    "# Importamos la clase:\n",
    "from sklearn.linear_model import LogisticRegression\n",
    "\n",
    "# Creamos una instancia de la clase anterior:\n",
    "clfrLogReg = LogisticRegression()\n",
    "\n",
    "# Invocamos al método \"fit()\" con el conjunto de entrenamiento para entrenar al clasificador:\n",
    "clfrLogReg.fit(train_data, y_train)\n",
    "\n",
    "# Predicción de las etiquetas o variables objetivo de nuestro conjunto de test:\n",
    "predicted_labels_LogReg = clfrLogReg.predict(test_data)\n",
    "\n",
    "# Veamos el resultado de los 20 primeros valores de la predicción sobre el conjunto de test, junto con los 20 \n",
    "# primeros valores reales de las clases de dicho conjunto de test:\n",
    "print(\"Predicción modelo Reg.log.:\\t\", predicted_labels_LogReg[0:20])\n",
    "print(\"Valores reales de las clases:\\t\", y_test.values[0:20])"
   ]
  },
  {
   "cell_type": "markdown",
   "metadata": {},
   "source": [
    "## --> Modelo de Máquina de Vectores Soporte (SVM)\n",
    "\n",
    "Vamos a declarar y entrenar el modelo SVM con el conjunto de datos de entrenamiento. Para posteriormente evaluar el clasificador predeciremos las etiquetas para el conjunto de datos de test."
   ]
  },
  {
   "cell_type": "code",
   "execution_count": 26,
   "metadata": {},
   "outputs": [
    {
     "name": "stdout",
     "output_type": "stream",
     "text": [
      "Predicción del modelo SVM:\t [1. 1. 1. 1. 0. 1. 0. 1. 0. 1. 1. 1. 1. 0. 0. 1. 1. 1. 1. 1.]\n",
      "Valores reales de las clases:\t [1. 0. 1. 1. 0. 1. 0. 1. 0. 1. 1. 1. 1. 0. 0. 1. 1. 1. 1. 1.]\n"
     ]
    }
   ],
   "source": [
    "# Importamos la clase:\n",
    "from sklearn import svm\n",
    "\n",
    "# Creamos una instancia de la clase anterior:\n",
    "clfrSVM = svm.SVC(kernel='linear', C=0.1)\n",
    "\n",
    "# Invocamos al método \"fit()\" con el conjunto de entrenamiento para entrenar al clasificador:\n",
    "clfrSVM.fit(train_data, y_train)\n",
    "\n",
    "# Predicción de las etiquetas o variables objetivo de nuestro conjunto de test:\n",
    "predicted_labels_SVM = clfrSVM.predict(test_data)\n",
    "\n",
    "# Veamos el resultado de los 20 primeros valores de la predicción sobre el conjunto de test, junto con los 20 \n",
    "# primeros valores reales de las clases de dicho conjunto de test:\n",
    "print(\"Predicción del modelo SVM:\\t\", predicted_labels_SVM[0:20])\n",
    "print(\"Valores reales de las clases:\\t\", y_test.values[0:20])"
   ]
  },
  {
   "cell_type": "markdown",
   "metadata": {},
   "source": [
    "# EVALUACIÓN DE LOS MODELOS QUE ACABAMOS DE ENTRENAR\n",
    "\n",
    "Vamos a calcular diferentes métricas para cada uno de los clasificadores que acabamos de entrenar, para poder compararlos y posteriormente decidir cuál es el que mejores resultados nos permite obtener.\n",
    "\n",
    "## --> Matriz de confusión de los modelos de clasificación\n",
    "\n",
    "Vamos a calcular la matriz de confusión de los modelos de Naive Bayes, Regresión logística y SVM que acabamos de entrenar."
   ]
  },
  {
   "cell_type": "code",
   "execution_count": 27,
   "metadata": {},
   "outputs": [
    {
     "name": "stdout",
     "output_type": "stream",
     "text": [
      "Matriz de confusión Naive bayes:\n",
      " [[6609  232]\n",
      " [ 547 1834]]\n",
      "Verdaderos positivos:  6609\n",
      "Falsos positivos:  547\n",
      "Verdaderos negativos:  1834\n",
      "Falsos negativos:  232\n",
      "\n",
      "Matriz de confusión Regresión logística:\n",
      " [[6619  222]\n",
      " [ 435 1946]]\n",
      "Verdaderos positivos:  6619\n",
      "Falsos positivos:  435\n",
      "Verdaderos negativos:  1946\n",
      "Falsos negativos:  222\n",
      "\n",
      "Matriz de confusión SVM:\n",
      " [[6621  220]\n",
      " [ 463 1918]]\n",
      "Verdaderos positivos:  6621\n",
      "Falsos positivos:  463\n",
      "Verdaderos negativos:  1918\n",
      "Falsos negativos:  220\n"
     ]
    }
   ],
   "source": [
    "from sklearn.metrics import confusion_matrix\n",
    "\n",
    "# Vamos a enfrentar las etiquetas predichas para nuestro conjunto de test (predicted_labels_NB para el modelo \n",
    "# Naive Bayes, predicted_labels_LogReg para el modelo Regresión logística y predicted_labels_SVM para el \n",
    "# modelo SVM) con los valores reales (y_test).\n",
    "\n",
    "# NOTA: Como sabemos, se trata de un problema de clasificación binario, en el que vamos a suponer que la clase \n",
    "# positiva es la 1 y la negativa la 0.\n",
    "\n",
    "# NOTA: En todos los casos, a la matriz obtenida al aplicar la función confusion_matrix, le aplicamos la función \n",
    "# flip() de Numpy para revertir el orden de sus elementos y obtener así la matriz de confusión con el orden que \n",
    "# buscamos: \n",
    "#    [[tp fn]\n",
    "#     [fp tn]]\n",
    "# Es decir, que sea una matriz con el valor de las observaciones reales en las filas, y en las columnas las \n",
    "# predicciones del modelo.\n",
    "\n",
    "# Modelo Naive Bayes:\n",
    "matriz_conf_NB = np.flip(confusion_matrix(y_test, predicted_labels_NB))\n",
    "print('Matriz de confusión Naive bayes:\\n', matriz_conf_NB)\n",
    "# Si desglosamos la matriz anterior en los términos que la componen:\n",
    "tn, fp, fn, tp = confusion_matrix(y_test, predicted_labels_NB).ravel()\n",
    "print('Verdaderos positivos: ', tp)\n",
    "print('Falsos positivos: ', fp)\n",
    "print('Verdaderos negativos: ', tn)\n",
    "print('Falsos negativos: ', fn)\n",
    "\n",
    "# Modelo Regresión logística:\n",
    "matriz_conf_LogReg = np.flip(confusion_matrix(y_test, predicted_labels_LogReg))\n",
    "print('\\nMatriz de confusión Regresión logística:\\n', matriz_conf_LogReg)\n",
    "# Si desglosamos la matriz anterior en los términos que la componen:\n",
    "tn, fp, fn, tp = confusion_matrix(y_test, predicted_labels_LogReg).ravel()\n",
    "print('Verdaderos positivos: ', tp)\n",
    "print('Falsos positivos: ', fp)\n",
    "print('Verdaderos negativos: ', tn)\n",
    "print('Falsos negativos: ', fn)\n",
    "\n",
    "# Modelo SVM:\n",
    "matriz_conf_SVM = np.flip(confusion_matrix(y_test, predicted_labels_SVM))\n",
    "print('\\nMatriz de confusión SVM:\\n', matriz_conf_SVM)\n",
    "# Si desglosamos la matriz anterior en los términos que la componen:\n",
    "tn, fp, fn, tp = confusion_matrix(y_test, predicted_labels_SVM).ravel()\n",
    "print('Verdaderos positivos: ', tp)\n",
    "print('Falsos positivos: ', fp)\n",
    "print('Verdaderos negativos: ', tn)\n",
    "print('Falsos negativos: ', fn)"
   ]
  },
  {
   "cell_type": "markdown",
   "metadata": {},
   "source": [
    "## --> Tasa de acierto de los modelos de clasificación\n",
    "\n",
    "Calculamos la tasa de acierto de los modelos de Naive Bayes, Regresión logística y SVM que hemos entrenado."
   ]
  },
  {
   "cell_type": "code",
   "execution_count": 28,
   "metadata": {},
   "outputs": [
    {
     "name": "stdout",
     "output_type": "stream",
     "text": [
      "Tasa de acierto Naive bayes:  0.9155280850140968\n",
      "Tasa de acierto Regresión Logística:  0.9287573194534808\n",
      "Tasa de acierto SVM:  0.9259379744090219\n"
     ]
    }
   ],
   "source": [
    "from sklearn.metrics import accuracy_score\n",
    "\n",
    "# Vamos a enfrentar las etiquetas predichas para nuestro conjunto de test (predicted_labels_NB para el modelo \n",
    "# Naive Bayes, predicted_labels_LogReg para el modelo Regresión logística y predicted_labels_SVM para el \n",
    "# modelo SVM) con los valores reales (y_test).\n",
    "\n",
    "# Modelo Naive Bayes:\n",
    "tasa_acierto_NB = accuracy_score(y_test, predicted_labels_NB)\n",
    "print('Tasa de acierto Naive bayes: ', tasa_acierto_NB)\n",
    "\n",
    "# Modelo Regresión logística:\n",
    "tasa_acierto_LogReg = accuracy_score(y_test, predicted_labels_LogReg)\n",
    "print('Tasa de acierto Regresión Logística: ', tasa_acierto_LogReg)\n",
    "\n",
    "# Modelo SVM:\n",
    "tasa_acierto_SVM = accuracy_score(y_test, predicted_labels_SVM)\n",
    "print('Tasa de acierto SVM: ', tasa_acierto_SVM)"
   ]
  },
  {
   "cell_type": "markdown",
   "metadata": {},
   "source": [
    "## --> Métricas precision, recall y F1-score de los modelos\n",
    "\n",
    "Calculamos ahora las métricas precision, recall y F1-score de los modelos de Naive Bayes, Regresión logística y SVM con los que venimos trabajando."
   ]
  },
  {
   "cell_type": "code",
   "execution_count": 29,
   "metadata": {},
   "outputs": [
    {
     "name": "stdout",
     "output_type": "stream",
     "text": [
      "\tPrecisión Naive Bayes;  [0.88770571 0.92356065]\n",
      "\tRecall Naive Bayes:  [0.77026459 0.96608683]\n",
      "\tF1 score Naive Bayes:  [0.82482573 0.94434522]\n",
      "\tF1 score micro Naive Bayes:  0.9155280850140968\n",
      "\n",
      "\tPrecisión Regresión Logística:  [0.89760148 0.93833286]\n",
      "\tRecall Regresión Logística:  [0.81730365 0.9675486 ]\n",
      "\tF1 score Regresión Logística:  [0.85557265 0.9527168 ]\n",
      "\tF1 score micro Regresión Logística:  0.9287573194534808\n",
      "\n",
      "\tPrecisión SVM:  [0.89710009 0.93464145]\n",
      "\tRecall SVM:  [0.80554389 0.96784096]\n",
      "\tF1 score SVM:  [0.84886037 0.95095153]\n",
      "\tF1 score micro SVM:  0.9259379744090219\n"
     ]
    }
   ],
   "source": [
    "from sklearn.metrics import precision_score\n",
    "from sklearn.metrics import recall_score\n",
    "from sklearn.metrics import f1_score\n",
    "\n",
    "# Vamos a enfrentar las etiquetas predichas para nuestro conjunto de test (predicted_labels_NB para el modelo \n",
    "# Naive Bayes, predicted_labels_LogReg para el modelo Regresión logística y predicted_labels_SVM para el \n",
    "# modelo SVM) con los valores reales (y_test).\n",
    "\n",
    "# NOTA: Como sabemos, se trata de un problema de clasificación binario, en el que vamos a suponer que la clase \n",
    "# positiva es la 1 y la negativa la 0. En el caso de que sólo nos interesaran las métricas anteriores para la \n",
    "# clase positiva, deberíamos añadir como argumentos a las funciones anteriores lo siguiente:\n",
    "#                labels = [0, 1], pos_label = 1  # Aunque ya es la opción por defecto si no lo añadimos.\n",
    "# Si sólo nos interesan para la clase negativa añadimos:\n",
    "#                labels = [0, 1], pos_label = 0\n",
    "# En nuestro caso nos va a interesar calcularlas para las dos clases, por lo tanto añadimos el argumento:\n",
    "#                average = None\n",
    "# En el caso de la métrica F1-score, vamos a calcular además la media denominada \"micro\", añadiendo el argumento:\n",
    "#                average = 'micro'\n",
    "# que se considera la media global y que quiere decir que utilizamos para calcularla la suma de los verdaderos \n",
    "# positivos, la suma de los falsos negativos y la suma de los falsos positivos. Como consecuencia, el valor \n",
    "# resultante es el mismo que para la tasa de acierto, y para la precisión y recall micros:\n",
    "#                micro-F1 = accuracy = micro-precision = micro-recall\n",
    "\n",
    "# Modelo Naive Bayes:\n",
    "precision_NB = precision_score(y_test, predicted_labels_NB, average = None)\n",
    "recall_NB = recall_score(y_test, predicted_labels_NB, average = None)\n",
    "medida_f1_NB = f1_score(y_test, predicted_labels_NB, average = None)\n",
    "medida_f1_micro_NB = f1_score(y_test, predicted_labels_NB, average='micro')\n",
    "\n",
    "print('\\tPrecisión Naive Bayes; ', precision_NB)\n",
    "print('\\tRecall Naive Bayes: ', recall_NB)\n",
    "print('\\tF1 score Naive Bayes: ', medida_f1_NB)\n",
    "print('\\tF1 score micro Naive Bayes: ', medida_f1_micro_NB)\n",
    "\n",
    "# Modelo Regresión logística:\n",
    "precision_LogReg = precision_score(y_test, predicted_labels_LogReg, average = None)\n",
    "recall_LogReg = recall_score(y_test, predicted_labels_LogReg, average = None)\n",
    "medida_f1_LogReg = f1_score(y_test, predicted_labels_LogReg, average = None)\n",
    "medida_f1_micro_LogReg = f1_score(y_test, predicted_labels_LogReg, average='micro')\n",
    "\n",
    "print('\\n\\tPrecisión Regresión Logística: ', precision_LogReg)\n",
    "print('\\tRecall Regresión Logística: ', recall_LogReg)\n",
    "print('\\tF1 score Regresión Logística: ', medida_f1_LogReg)\n",
    "print('\\tF1 score micro Regresión Logística: ', medida_f1_micro_LogReg)\n",
    "\n",
    "# Modelo SVM:\n",
    "precision_SVM = precision_score(y_test, predicted_labels_SVM, average = None)\n",
    "recall_SVM = recall_score(y_test, predicted_labels_SVM, average = None)\n",
    "medida_f1_SVM = f1_score(y_test, predicted_labels_SVM, average = None)\n",
    "medida_f1_micro_SVM = f1_score(y_test, predicted_labels_SVM, average='micro')\n",
    "\n",
    "print('\\n\\tPrecisión SVM: ', precision_SVM)\n",
    "print('\\tRecall SVM: ', recall_SVM)\n",
    "print('\\tF1 score SVM: ', medida_f1_SVM)\n",
    "print('\\tF1 score micro SVM: ', medida_f1_micro_SVM)"
   ]
  },
  {
   "cell_type": "markdown",
   "metadata": {},
   "source": [
    "## --> Selección del modelo más óptimo\n",
    "\n",
    "Atendiendo a las métricas obtenidas para cada uno de los modelos, vamos a indicar cuál es el modelo que convendría utilizar para predecir el sentimiento de las opiniones en un sistema en producción."
   ]
  },
  {
   "cell_type": "code",
   "execution_count": 30,
   "metadata": {},
   "outputs": [
    {
     "name": "stdout",
     "output_type": "stream",
     "text": [
      "--> Resumen de las métricas de evaluación del modelo de Naive Bayes:\n",
      "                      precision    recall  f1-score   support\n",
      "\n",
      "Sentimiento negativo     0.8877    0.7703    0.8248      2381\n",
      "Sentimiento positivo     0.9236    0.9661    0.9443      6841\n",
      "\n",
      "            accuracy                         0.9155      9222\n",
      "           macro avg     0.9056    0.8682    0.8846      9222\n",
      "        weighted avg     0.9143    0.9155    0.9135      9222\n",
      "\n",
      "--> Resumen de las métricas de evaluación del modelo de Regresión logística:\n",
      "                      precision    recall  f1-score   support\n",
      "\n",
      "Sentimiento negativo     0.8976    0.8173    0.8556      2381\n",
      "Sentimiento positivo     0.9383    0.9675    0.9527      6841\n",
      "\n",
      "            accuracy                         0.9288      9222\n",
      "           macro avg     0.9180    0.8924    0.9041      9222\n",
      "        weighted avg     0.9278    0.9288    0.9276      9222\n",
      "\n",
      "--> Resumen de las métricas de evaluación del modelo SVM:\n",
      "                      precision    recall  f1-score   support\n",
      "\n",
      "Sentimiento negativo     0.8971    0.8055    0.8489      2381\n",
      "Sentimiento positivo     0.9346    0.9678    0.9510      6841\n",
      "\n",
      "            accuracy                         0.9259      9222\n",
      "           macro avg     0.9159    0.8867    0.8999      9222\n",
      "        weighted avg     0.9249    0.9259    0.9246      9222\n",
      "\n"
     ]
    }
   ],
   "source": [
    "from sklearn.metrics import classification_report\n",
    "\n",
    "# Veamos el resumen de todas las métricas anteriores. Podemos hacerlo mirando las métricas que ya hemos sacado en \n",
    "# los puntos anteriores, o para que sea más cómodo, mirando el resumen en el que obtenemos todas las métricas \n",
    "# juntas mediante la función classification_report:\n",
    "\n",
    "# NOTA: La clase 0 la renombraré como \"Sentimiento negativo\", y la clase 1 como \"Sentimiento positivo\".\n",
    "\n",
    "print('--> Resumen de las métricas de evaluación del modelo de Naive Bayes:')\n",
    "print(classification_report(y_test, predicted_labels_NB, \n",
    "                            target_names = ['Sentimiento negativo', 'Sentimiento positivo'], digits = 4))\n",
    "\n",
    "print('--> Resumen de las métricas de evaluación del modelo de Regresión logística:')\n",
    "print(classification_report(y_test, predicted_labels_LogReg, \n",
    "                            target_names = ['Sentimiento negativo', 'Sentimiento positivo'], digits = 4))\n",
    "\n",
    "print('--> Resumen de las métricas de evaluación del modelo SVM:')\n",
    "print(classification_report(y_test, predicted_labels_SVM, \n",
    "                            target_names = ['Sentimiento negativo', 'Sentimiento positivo'], digits = 4))"
   ]
  },
  {
   "cell_type": "code",
   "execution_count": 31,
   "metadata": {},
   "outputs": [
    {
     "name": "stdout",
     "output_type": "stream",
     "text": [
      ">> El modelo seleccionado es el de Regresión logística, ya que es el que mejores valores tiene.\n",
      "- Si nos fijamos en la precisión (que nos da la proporción de los clasificados de una clase que son realmente de \n",
      "esa clase), el recall (que nos da proporción de los clasificados correctamente de una clase sobre el total de los \n",
      "de esa clase), y el F1-score (que nos da la media armónica de precisión y recall), tenemos que:\n",
      "-- para la clase Sentimiento positivo, los valores de recall son muy similares en los tres modelos, siendo un \n",
      "pelín inferior el valor de precisión en el modelo Naive Bayes, lo que además lastra un poco su F1-score.\n",
      "-- para la clase Sentimiento negativo, los valores de precisión y recall son inferiores en el modelo Naive Bayes \n",
      "que en los otros dos. Comparando el de Regresión logística con el SVM, tenemos que tienen una precisión muy \n",
      "similar, pero un recall mayor el de Regresión logística, con lo cual su métrica combinada F1-score es superior \n",
      "a la del modelo SVM.\n",
      "- Por otro lado, también podemos ver que la tasa de acierto global es mayor para el modelo de Regresión logística \n",
      "que para los otros dos.\n",
      "\n",
      "Como resumen podemos decir que, a la vista de los resultados obtenidos, el modelo de Regresión logística tiene \n",
      "una tasa de acierto global un pelín superior a los otros dos, su proporción de aciertos dentro de los clasificados \n",
      "como Sentimiento positivo es un poco superior a la del modelo de Naive Bayes, y su proporción de clasificados como \n",
      "Sentimiento negativo dentro de los que realmente lo son es superior tanto al modelo Naive Bayes como al SVM.\n"
     ]
    }
   ],
   "source": [
    "# NOTA: Los valores son muy similares en todos los casos que se han entrenado los modelos, pero puede haber \n",
    "# diferencias mínimas cada vez que se vuelvan a entrenar debido a la aleatoriedad en la elección de los conjuntos \n",
    "# de datos de entrenamiento y de test.\n",
    "\n",
    "print('''>> El modelo seleccionado es el de Regresión logística, ya que es el que mejores valores tiene.\n",
    "- Si nos fijamos en la precisión (que nos da la proporción de los clasificados de una clase que son realmente de \n",
    "esa clase), el recall (que nos da proporción de los clasificados correctamente de una clase sobre el total de los \n",
    "de esa clase), y el F1-score (que nos da la media armónica de precisión y recall), tenemos que:\n",
    "-- para la clase Sentimiento positivo, los valores de recall son muy similares en los tres modelos, siendo un \n",
    "pelín inferior el valor de precisión en el modelo Naive Bayes, lo que además lastra un poco su F1-score.\n",
    "-- para la clase Sentimiento negativo, los valores de precisión y recall son inferiores en el modelo Naive Bayes \n",
    "que en los otros dos. Comparando el de Regresión logística con el SVM, tenemos que tienen una precisión muy \n",
    "similar, pero un recall mayor el de Regresión logística, con lo cual su métrica combinada F1-score es superior \n",
    "a la del modelo SVM.\n",
    "- Por otro lado, también podemos ver que la tasa de acierto global es mayor para el modelo de Regresión logística \n",
    "que para los otros dos.\n",
    "\n",
    "Como resumen podemos decir que, a la vista de los resultados obtenidos, el modelo de Regresión logística tiene \n",
    "una tasa de acierto global un pelín superior a los otros dos, su proporción de aciertos dentro de los clasificados \n",
    "como Sentimiento positivo es un poco superior a la del modelo de Naive Bayes, y su proporción de clasificados como \n",
    "Sentimiento negativo dentro de los que realmente lo son es superior tanto al modelo Naive Bayes como al SVM.''')"
   ]
  },
  {
   "cell_type": "code",
   "execution_count": 32,
   "metadata": {},
   "outputs": [
    {
     "name": "stdout",
     "output_type": "stream",
     "text": [
      "fpr Naive Bayes: [0.         0.22973541 1.        ]\n",
      "tpr Naive Bayes: [0.         0.96608683 1.        ]\n",
      "thresholds Naive Bayes: [2. 1. 0.]\n",
      "AUC Naive Bayes: 0.8681757120595053\n",
      "\n",
      "fpr Regresión logística: [0.         0.18269635 1.        ]\n",
      "tpr Regresión logística: [0.        0.9675486 1.       ]\n",
      "thresholds Regresión logística: [2. 1. 0.]\n",
      "AUC Regresión logística: 0.8924261289660921\n",
      "\n",
      "fpr SVM: [0.         0.19445611 1.        ]\n",
      "tpr SVM: [0.         0.96784096 1.        ]\n",
      "thresholds SVM: [2. 1. 0.]\n",
      "AUC SVM: 0.8866924240231757\n"
     ]
    },
    {
     "data": {
      "image/png": "[encoded data removed]",
      "text/plain": [
       "<Figure size 864x864 with 1 Axes>"
      ]
     },
     "metadata": {
      "needs_background": "light"
     },
     "output_type": "display_data"
    }
   ],
   "source": [
    "# Vamos a calcular a mayores las curvas ROC de los modelos anteriores, ya que también son una herramienta muy \n",
    "# potente para la selección del mejor modelo.\n",
    "\n",
    "# import numpy as np  # Ya la tenemos importada de antes.\n",
    "import matplotlib.pyplot as plt\n",
    "from sklearn.metrics import roc_curve\n",
    "from sklearn.metrics import auc\n",
    "\n",
    "# Calculamos los valores de las curvas ROC de cada modelo, así como el área bajo dechas curvas (AUC):\n",
    "\n",
    "# Modelo Naive Bayes:\n",
    "fpr_NB, tpr_NB, thresholds_NB = roc_curve(y_test, predicted_labels_NB)\n",
    "print('fpr Naive Bayes: ' + str(fpr_NB))\n",
    "print('tpr Naive Bayes: ' + str(tpr_NB))\n",
    "print('thresholds Naive Bayes: ' + str(thresholds_NB))\n",
    "AUC_NB = auc(fpr_NB, tpr_NB)\n",
    "print('AUC Naive Bayes: ' + str(AUC_NB))\n",
    "\n",
    "# Modelo Regresión logística:\n",
    "fpr_LogReg, tpr_LogReg, thresholds_LogReg = roc_curve(y_test, predicted_labels_LogReg)\n",
    "print('\\nfpr Regresión logística: ' + str(fpr_LogReg))\n",
    "print('tpr Regresión logística: ' + str(tpr_LogReg))\n",
    "print('thresholds Regresión logística: ' + str(thresholds_LogReg))\n",
    "AUC_LogReg = auc(fpr_LogReg, tpr_LogReg)\n",
    "print('AUC Regresión logística: ' + str(AUC_LogReg))\n",
    "\n",
    "# Modelo SVM:\n",
    "fpr_SVM, tpr_SVM, thresholds_SVM = roc_curve(y_test, predicted_labels_SVM)\n",
    "print('\\nfpr SVM: ' + str(fpr_SVM))\n",
    "print('tpr SVM: ' + str(tpr_SVM))\n",
    "print('thresholds SVM: ' + str(thresholds_SVM))\n",
    "AUC_SVM = auc(fpr_SVM, tpr_SVM)\n",
    "print('AUC SVM: ' + str(AUC_SVM))\n",
    "\n",
    "# Representamos las gráficas:\n",
    "fig, ax = plt.subplots(figsize = (12, 12))\n",
    "plt.plot(fpr_NB, tpr_NB, label = \"Naive Bayes\")\n",
    "plt.plot(fpr_LogReg, tpr_LogReg, label = \"Regresión logística\")\n",
    "plt.plot(fpr_SVM, tpr_SVM, label = \"SVM\")\n",
    "plt.plot([0, 1], [0, 1], 'k--')\n",
    "plt.legend()\n",
    "plt.title('ROC_curve Naive Bayes' + '(AUC Naive Bayes: ' + str(AUC_NB) + ')' + '\\n' \n",
    "          + 'ROC_curve Regresión logística' + '(AUC Regresión logística: ' + str(AUC_LogReg) + ')' + '\\n' \n",
    "          + 'ROC_curve SVM' + '(AUC SVM: ' + str(AUC_SVM) + ')', fontsize = 15)\n",
    "plt.ylabel('True Positive Rate', fontsize = 20)\n",
    "plt.xlabel('False Positive Rate', fontsize = 20)\n",
    "plt.show()"
   ]
  },
  {
   "cell_type": "code",
   "execution_count": 33,
   "metadata": {},
   "outputs": [
    {
     "name": "stdout",
     "output_type": "stream",
     "text": [
      "Como podemos observar a partir de las curvas ROC anteriores y del área bajo las mismas (AUC), el modelo \n",
      "de Regresión logística sería en general el más preciso para nuestro caso de estudio de Análisis de Sentimientos \n",
      "de opiniones.\n"
     ]
    }
   ],
   "source": [
    "print('''Como podemos observar a partir de las curvas ROC anteriores y del área bajo las mismas (AUC), el modelo \n",
    "de Regresión logística sería en general el más preciso para nuestro caso de estudio de Análisis de Sentimientos \n",
    "de opiniones.''')"
   ]
  },
  {
   "cell_type": "markdown",
   "metadata": {},
   "source": [
    "## --> Aplicación de validación cruzada\n",
    "\n",
    "Vamos a realizar una validación cruzada sobre el conjunto de entrenamiento de 5 iteracciones y muestraremos un array con las evaluaciones obtenidas para cada partición en los modelos de Naive Bayes, Regresión logística y SVM con los que venimos trabajando."
   ]
  },
  {
   "cell_type": "code",
   "execution_count": 34,
   "metadata": {},
   "outputs": [],
   "source": [
    "from sklearn.model_selection import cross_val_score\n",
    "\n",
    "# La validación cruzada es un método de remuestreo que permite asegurar que cada observación de un conjunto \n",
    "# se usa para entrenamiento y test un número de veces idéntico.\n",
    "\n",
    "# La función cross_val_score nos va a calcular el score obtenido para cada una de las divisiones que implementamos \n",
    "# del conjunto de datos, que en este caso nos piden que sean 5.\n",
    "# Debemos introducir en la función cross_val_score:\n",
    "# - El estimador usado para entrenar los modelos (aunque los estimadores que obtuvimos (clfrNB, clfrLogReg, \n",
    "# clfrSVM) ya nos sirvieron para entrenar los modelos con los que hemos estado trabajando hasta ahora, no hace \n",
    "# falta instanciar estimadores nuevos, sino que podemos usar los que teníamos ya que la función cross_valscore \n",
    "# los trata como estimadores, no como modelos).\n",
    "# - El conjunto de datos para entrenar lo modelos (en este caso serán todos los datos de los que disponemos, \n",
    "# y no la partición train_data con la que hemos trabajado hasta ahora).\n",
    "# - El conjunto de variables objetivo o clases de todos los datos con los que entrenamos los modelos (que son \n",
    "# todos los datos de los que disponemos).\n",
    "# - La estrategia de división de validación cruzada, es decir, el número de divisiones que queremos implementar \n",
    "# del conjunto de datos, que como hemos visto es 5 (por defecto la función toma el valor de 5, pero se lo vamos a \n",
    "# indicar igualmente mediante cv=5).\n",
    "\n",
    "# Debemos obtener la matriz dispersa de términos del documento completo, ya que antes la teníamos dividida en una \n",
    "# para entrenamiento y otra para test (porque veníamos utilizando la estrategia de partición de datos).\n",
    "\n",
    "# Partimos de las dos estructuras de la misma longitud, el bloque de características \"X\" y la variable \n",
    "# objetivo \"y\", que creamos con anterioridad para el documento completo cuando separamos la columna \"Sentiment\" \n",
    "# del dataset de partida.\n",
    "# Por lo tanto ahora ya no hace falta utilizar la función \"train_test_split\" al no seguir la estrategia simple de \n",
    "# partición de datos.\n",
    "\n",
    "# A partir de nuestra colección de documentos de texto, que van a ser las \"reviews\" de cada registro del \n",
    "# dataset completo, vamos a aprender su vocabulario y crear la \"document term matrix\".\n",
    "# Comenzaremos generando el corpus de documentos con el que vamos a trabajar, que ya hemos dicho que son las \n",
    "# \"reviews\" de cada registro del dataset completo, y lo almacenamos en una lista llamada \"corpus_completo\":\n",
    "\n",
    "corpus_completo = []\n",
    "for i in range(len(X)):\n",
    "    corpus_completo.append(X.iloc[i, X.columns.get_loc('Reviews')])\n",
    "\n",
    "# Ya tenemos importada previamente la clase:\n",
    "#    from sklearn.feature_extraction.text import CountVectorizer\n",
    "\n",
    "# Creamos una instancia de la clase anterior:\n",
    "vectorizer_completo = CountVectorizer()\n",
    "\n",
    "# Llamamos a la función \"fit()\" para aprender el vocabulario de las \"Reviews\" del dataset completo:\n",
    "vectorizer_completo.fit(corpus_completo)\n",
    "\n",
    "# Llamamos a la función \"transform()\" para codificar cada documento (review) del dataset completo como un vector, \n",
    "# y obtener así la matriz dispersa de términos del documento completo:\n",
    "X_completo = vectorizer_completo.transform(corpus_completo)"
   ]
  },
  {
   "cell_type": "code",
   "execution_count": 35,
   "metadata": {},
   "outputs": [
    {
     "name": "stdout",
     "output_type": "stream",
     "text": [
      "Scores Naive Bayes:  [0.91232921 0.92469096 0.92321458 0.91947291 0.91589393]\n",
      "Scores Regresión logística:  [0.93119714 0.94225764 0.92744428 0.92679356 0.93118594]\n",
      "Scores SVM:  [0.92794405 0.93916721 0.92663088 0.92549211 0.92598015]\n"
     ]
    }
   ],
   "source": [
    "# Calculamos ahora ya los arrays con las evaluaciones o scores obtenidos para cada partición o iteración de la \n",
    "# validación cruzada en cada uno de los modelos:\n",
    "\n",
    "#NOTA: Para que no aparezcan por pantalla los warnings de este tipo:\n",
    "#    STOP: TOTAL NO. of ITERATIONS REACHED LIMIT.\n",
    "# que obteníamos al entrenar el modelo de Regresión logística, aplicamos la siguiente función:\n",
    "import warnings\n",
    "warnings.filterwarnings('ignore')\n",
    "\n",
    "# Modelo Naive Bayes:\n",
    "scores_NB = cross_val_score(clfrNB, X_completo, y, cv=5)\n",
    "print('Scores Naive Bayes: ', scores_NB)\n",
    "\n",
    "# Modelo Regresión logística:\n",
    "scores_LogReg = cross_val_score(clfrLogReg, X_completo, y, cv=5)\n",
    "print('Scores Regresión logística: ', scores_LogReg)\n",
    "\n",
    "# Modelo SVM:\n",
    "scores_SVM = cross_val_score(clfrSVM, X_completo, y, cv=5)\n",
    "print('Scores SVM: ', scores_SVM)"
   ]
  },
  {
   "cell_type": "code",
   "execution_count": 36,
   "metadata": {},
   "outputs": [
    {
     "name": "stdout",
     "output_type": "stream",
     "text": [
      "Score Naive Bayes: 0.9191 (+/- 0.0091)\n",
      "Score Regresión logística: 0.9318 (+/- 0.0111)\n",
      "Score SVM: 0.9290 (+/- 0.0103)\n"
     ]
    }
   ],
   "source": [
    "# Cada uno de los scores anteriores está calculado para cada una de las iteraciones de la validación cruzada.\n",
    "# Calculemos por último el intervalo de confianza del 95% para la media simple de los scores obtenidos para cada \n",
    "# uno de los modelos estudiados:\n",
    "\n",
    "# Modelo Naive Bayes:\n",
    "print(\"Score Naive Bayes: %0.4f (+/- %0.4f)\" % (scores_NB.mean(), scores_NB.std() * 2))\n",
    "\n",
    "# Modelo Regresión logística:\n",
    "print(\"Score Regresión logística: %0.4f (+/- %0.4f)\" % (scores_LogReg.mean(), scores_LogReg.std() * 2))\n",
    "\n",
    "# Modelo SVM:\n",
    "print(\"Score SVM: %0.4f (+/- %0.4f)\" % (scores_SVM.mean(), scores_SVM.std() * 2))"
   ]
  },
  {
   "cell_type": "code",
   "execution_count": null,
   "metadata": {},
   "outputs": [],
   "source": []
  }
 ],
 "metadata": {
  "kernelspec": {
   "display_name": "Python 3",
   "language": "python",
   "name": "python3"
  },
  "language_info": {
   "codemirror_mode": {
    "name": "ipython",
    "version": 3
   },
   "file_extension": ".py",
   "mimetype": "text/x-python",
   "name": "python",
   "nbconvert_exporter": "python",
   "pygments_lexer": "ipython3",
   "version": "3.7.4"
  },
  "toc": {
   "base_numbering": 1,
   "nav_menu": {},
   "number_sections": true,
   "sideBar": true,
   "skip_h1_title": false,
   "title_cell": "Table of Contents",
   "title_sidebar": "Contents",
   "toc_cell": false,
   "toc_position": {},
   "toc_section_display": true,
   "toc_window_display": true
  },
  "varInspector": {
   "cols": {
    "lenName": 16,
    "lenType": 16,
    "lenVar": 40
   },
   "kernels_config": {
    "python": {
     "delete_cmd_postfix": "",
     "delete_cmd_prefix": "del ",
     "library": "var_list.py",
     "varRefreshCmd": "print(var_dic_list())"
    },
    "r": {
     "delete_cmd_postfix": ") ",
     "delete_cmd_prefix": "rm(",
     "library": "var_list.r",
     "varRefreshCmd": "cat(var_dic_list()) "
    }
   },
   "types_to_exclude": [
    "module",
    "function",
    "builtin_function_or_method",
    "instance",
    "_Feature"
   ],
   "window_display": false
  }
 },
 "nbformat": 4,
 "nbformat_minor": 2
}
